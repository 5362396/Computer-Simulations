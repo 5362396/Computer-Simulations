{
 "cells": [
  {
   "cell_type": "code",
   "id": "initial_id",
   "metadata": {
    "collapsed": true,
    "ExecuteTime": {
     "end_time": "2024-10-09T09:49:20.870034Z",
     "start_time": "2024-10-09T09:49:20.866238Z"
    }
   },
   "source": [
    "import math\n",
    "import matplotlib.pyplot as plt\n",
    "import numpy as np"
   ],
   "execution_count": 3,
   "outputs": []
  },
  {
   "metadata": {},
   "cell_type": "markdown",
   "source": "Zad. 1. Narysować trójkąt o wierzchołkach w punktach: (0,0), (10, 1), (5,7).",
   "id": "734bcf95a202473b"
  },
  {
   "metadata": {
    "ExecuteTime": {
     "end_time": "2024-10-09T09:44:49.292784Z",
     "start_time": "2024-10-09T09:44:49.224947Z"
    }
   },
   "cell_type": "code",
   "source": [
    "x = [0, 10, 5]\n",
    "y = [0, 1, 7]\n",
    "\n",
    "triangle = plt.Polygon(np.column_stack((x, y)), facecolor='red', edgecolor='black')\n",
    "\n",
    "ax = plt.gca()\n",
    "ax.add_patch(triangle)\n",
    "\n",
    "plt.xlim(0, 11)\n",
    "plt.ylim(0, 8)\n",
    "plt.show()"
   ],
   "id": "446b6ed558ed6621",
   "execution_count": 2,
   "outputs": []
  },
  {
   "metadata": {},
   "cell_type": "markdown",
   "source": "",
   "id": "232c8d41ac49534d"
  },
  {
   "metadata": {},
   "cell_type": "markdown",
   "source": [
    "Zad. 2. Narysować na jednym wykresie trzy funkcje, zgodnie z poniższym opisem  \n",
    "• f(x) = cosx — kolor czerwony, linia kropkowana,  \n",
    "• g(x) = cos2x — kolor niebieski, linia ciągła,  \n",
    "• h(x) = cos3x — kolor zielony, linia kreskowana,  \n",
    "w przedziale [0,2π]. Opisać osie wykresu, dodać legendę oraz włączyć wyświetlanie siatki pomocniczej."
   ],
   "id": "8524688c225324b0"
  },
  {
   "metadata": {
    "ExecuteTime": {
     "end_time": "2024-10-09T09:52:59.558812Z",
     "start_time": "2024-10-09T09:52:59.507608Z"
    }
   },
   "cell_type": "code",
   "source": [
    "x = np.linspace(0, 2*math.pi, 400)\n",
    "f = np.cos(x)\n",
    "g = np.cos(x) ** 2\n",
    "h = np.cos(x) ** 3\n",
    "\n",
    "plt.plot(x, f, 'r:')\n",
    "plt.plot(x, g, 'b-')\n",
    "plt.plot(x, h, 'g--')\n",
    "plt.show()"
   ],
   "id": "e65d6a278c046bfa",
   "execution_count": 6,
   "outputs": []
  }
 ],
 "metadata": {
  "kernelspec": {
   "display_name": "Python 3",
   "language": "python",
   "name": "python3"
  },
  "language_info": {
   "codemirror_mode": {
    "name": "ipython",
    "version": 2
   },
   "file_extension": ".py",
   "mimetype": "text/x-python",
   "name": "python",
   "nbconvert_exporter": "python",
   "pygments_lexer": "ipython2",
   "version": "2.7.6"
  }
 },
 "nbformat": 4,
 "nbformat_minor": 5
}
