{
 "cells": [
  {
   "metadata": {},
   "cell_type": "markdown",
   "source": [
    "Zad. 1. Rozważmy oscylator harmoniczny z wymuszeniem kinematycznym, tzn. rozważmy\n",
    "masę m zawieszoną na sprężynie o stałej sprężystości k i tłumieniu f, na które\n",
    "działa siła F. Wymuszenie kinematyczne jest to zmienne w czasie przemieszczenie\n",
    "sprężystego i/lub tłumiącego elementu układu połączonego z masą układu.\n",
    "\n",
    "(a) Wykonać w Simulinku model ruchu oscylatora harmonicznego. Wygenerować\n",
    "wykresy opisujące położenie ciała oraz wymuszenie w czasie t ∈ [0, 10]."
   ],
   "id": "3e17ac562752a6e9"
  },
  {
   "cell_type": "code",
   "id": "initial_id",
   "metadata": {
    "collapsed": true,
    "ExecuteTime": {
     "end_time": "2024-11-27T10:50:46.596214Z",
     "start_time": "2024-11-27T10:50:46.201454Z"
    }
   },
   "source": [
    "import numpy as np\n",
    "import matplotlib.pyplot as plt\n",
    "from scipy.integrate import solve_ivp"
   ],
   "execution_count": 1,
   "outputs": []
  },
  {
   "metadata": {
    "ExecuteTime": {
     "end_time": "2024-11-27T10:50:46.600342Z",
     "start_time": "2024-11-27T10:50:46.596214Z"
    }
   },
   "cell_type": "code",
   "source": [
    "m = 0.0253  # masa [kg]\n",
    "f = 0.1  # tłumienie [kg/s]\n",
    "k = 1  # stała sprężystości [N/m]"
   ],
   "id": "c0f98d65c08195ee",
   "execution_count": 2,
   "outputs": []
  },
  {
   "metadata": {},
   "cell_type": "markdown",
   "source": [
    "m * a + f * v + k * x = k * x1(t)  \n",
    "m * a = k * x1(t) - f * v - k * x  \n",
    "a = (k * x1(t)) / m - (f * v) / m - (k * x) / m  \n",
    "a = (k * x1(t) - f * v - k * x) / m  "
   ],
   "id": "472e619cf065a95e"
  },
  {
   "metadata": {
    "ExecuteTime": {
     "end_time": "2024-11-27T10:50:46.611630Z",
     "start_time": "2024-11-27T10:50:46.601369Z"
    }
   },
   "cell_type": "code",
   "source": [
    "x0 = 0  # początkowe położenie\n",
    "v0 = 0  # początkowa prędkość"
   ],
   "id": "1a119849be52ecb2",
   "execution_count": 3,
   "outputs": []
  },
  {
   "metadata": {
    "ExecuteTime": {
     "end_time": "2024-11-27T10:50:46.617539Z",
     "start_time": "2024-11-27T10:50:46.611630Z"
    }
   },
   "cell_type": "code",
   "source": [
    "def x1(t):\n",
    "    if (t % 6) < 3:\n",
    "        return 1  # wartość 1 przez 3 s.\n",
    "    else:\n",
    "        return 0  # wartość 0 przez kolejne 3 s."
   ],
   "id": "3333e9a46fab7c3d",
   "execution_count": 4,
   "outputs": []
  },
  {
   "metadata": {
    "ExecuteTime": {
     "end_time": "2024-11-27T10:50:46.623282Z",
     "start_time": "2024-11-27T10:50:46.617539Z"
    }
   },
   "cell_type": "code",
   "source": [
    "def oscylator_harmoniczny(t, y):\n",
    "    x, v = y\n",
    "    a = (k * x1(t) - f * v - k * x) / m\n",
    "    return [v, a]"
   ],
   "id": "1a4a5703832105b0",
   "execution_count": 5,
   "outputs": []
  },
  {
   "metadata": {
    "ExecuteTime": {
     "end_time": "2024-11-27T10:50:46.630062Z",
     "start_time": "2024-11-27T10:50:46.623282Z"
    }
   },
   "cell_type": "code",
   "source": [
    "przedzial_czasu = (0, 10)\n",
    "probki_czasu = np.linspace(*przedzial_czasu, 1000)"
   ],
   "id": "4c52db9aaadf4ffe",
   "execution_count": 6,
   "outputs": []
  },
  {
   "metadata": {
    "ExecuteTime": {
     "end_time": "2024-11-27T10:50:46.642313Z",
     "start_time": "2024-11-27T10:50:46.630062Z"
    }
   },
   "cell_type": "code",
   "source": [
    "rozwiazanie = solve_ivp(fun=oscylator_harmoniczny, t_span=przedzial_czasu, y0=[x0, v0], t_eval=probki_czasu)\n",
    "t = rozwiazanie.t\n",
    "x = rozwiazanie.y[0]\n",
    "wartosci_x1 = np.array([x1(t_i) for t_i in t])"
   ],
   "id": "2e3cd4d9d09ad436",
   "execution_count": 7,
   "outputs": []
  },
  {
   "metadata": {
    "ExecuteTime": {
     "end_time": "2024-11-27T10:50:46.743741Z",
     "start_time": "2024-11-27T10:50:46.642313Z"
    }
   },
   "cell_type": "code",
   "source": [
    "plt.figure(figsize=(10, 5))\n",
    "\n",
    "plt.plot(t, x, label='przemieszczenie', color='green')\n",
    "plt.plot(t, wartosci_x1, label='wymuszenie', color='blue', linestyle='--')\n",
    "\n",
    "plt.xlabel('t')\n",
    "plt.ylabel('x')\n",
    "plt.title('Przemieszczenie oscylatora i wymuszenie kinematyczne')\n",
    "plt.grid()\n",
    "plt.legend()\n",
    "\n",
    "plt.tight_layout()\n",
    "plt.show()"
   ],
   "id": "63f7a02b52ae945a",
   "execution_count": 8,
   "outputs": []
  },
  {
   "metadata": {},
   "cell_type": "markdown",
   "source": "(b) Dobrać tłumienie f tak, aby nie występowały przeregulowania.",
   "id": "30f2f2f28a0fcd4b"
  },
  {
   "metadata": {
    "ExecuteTime": {
     "end_time": "2024-11-27T10:50:46.753124Z",
     "start_time": "2024-11-27T10:50:46.743741Z"
    }
   },
   "cell_type": "code",
   "source": [
    "f = 0.3  # tłumienie [kg/s]\n",
    "\n",
    "rozwiazanie = solve_ivp(fun=oscylator_harmoniczny, t_span=przedzial_czasu, y0=[x0, v0], t_eval=probki_czasu)\n",
    "t = rozwiazanie.t\n",
    "x = rozwiazanie.y[0]\n",
    "wartosci_x1 = np.array([x1(t_i) for t_i in t])"
   ],
   "id": "7ebf5383aacf45c4",
   "execution_count": 9,
   "outputs": []
  },
  {
   "metadata": {
    "ExecuteTime": {
     "end_time": "2024-11-27T10:50:46.842756Z",
     "start_time": "2024-11-27T10:50:46.753124Z"
    }
   },
   "cell_type": "code",
   "source": [
    "plt.figure(figsize=(10, 5))\n",
    "\n",
    "plt.plot(t, x, label='przemieszczenie', color='green')\n",
    "plt.plot(t, wartosci_x1, label='wymuszenie', color='blue', linestyle='--')\n",
    "\n",
    "plt.xlabel('t')\n",
    "plt.ylabel('x')\n",
    "plt.title('Przemieszczenie oscylatora i wymuszenie kinematyczne')\n",
    "plt.grid()\n",
    "plt.legend()\n",
    "\n",
    "plt.tight_layout()\n",
    "plt.show()"
   ],
   "id": "7088179a92510bfb",
   "execution_count": 10,
   "outputs": []
  },
  {
   "metadata": {},
   "cell_type": "markdown",
   "source": [
    "Zad. 2. Rozważmy masę m zawieszoną na sprężynie o stałej sprężystości k i tłumieniu f,\n",
    "na które działa siła F.\n",
    "\n",
    "(a) Wykonać w Simulinku model ruchu oscylatora harmonicznego. Wygenerować\n",
    "wykresy opisujące przyspieszenie, prędkość i położenie ciała w czasie t ∈ [0, 20].\n",
    "Parametry modelu zdefiniować w ramach funkcji/skryptu."
   ],
   "id": "2d00157ed928eb8"
  },
  {
   "metadata": {
    "ExecuteTime": {
     "end_time": "2024-11-27T10:50:46.846Z",
     "start_time": "2024-11-27T10:50:46.842756Z"
    }
   },
   "cell_type": "code",
   "source": [
    "m = 1250  # masa [kg]\n",
    "f = 100  # tłumienie [kg/s]\n",
    "k = 1250  # stała sprężystości [N/m]"
   ],
   "id": "8698715b0376c05b",
   "execution_count": 11,
   "outputs": []
  },
  {
   "metadata": {
    "ExecuteTime": {
     "end_time": "2024-11-27T10:50:46.849002Z",
     "start_time": "2024-11-27T10:50:46.846Z"
    }
   },
   "cell_type": "code",
   "source": [
    "def funkcja(t):\n",
    "    return 0 if t < 1 else 25"
   ],
   "id": "6e349f507301a4f3",
   "execution_count": 12,
   "outputs": []
  },
  {
   "metadata": {
    "ExecuteTime": {
     "end_time": "2024-11-27T10:50:46.851993Z",
     "start_time": "2024-11-27T10:50:46.849002Z"
    }
   },
   "cell_type": "code",
   "source": [
    "def oscylator_harmoniczny_v2(t, y):\n",
    "    x, v = y\n",
    "    a = (funkcja(t) - f * v - k * x) / m\n",
    "    return [v, a]"
   ],
   "id": "2f733b0a22a7d4fc",
   "execution_count": 13,
   "outputs": []
  },
  {
   "metadata": {
    "ExecuteTime": {
     "end_time": "2024-11-27T10:50:46.855559Z",
     "start_time": "2024-11-27T10:50:46.851993Z"
    }
   },
   "cell_type": "code",
   "source": [
    "przedzial_czasu = (0, 20)\n",
    "probki_czasu = np.linspace(*przedzial_czasu, 1000)"
   ],
   "id": "ec297ec483931434",
   "execution_count": 14,
   "outputs": []
  },
  {
   "metadata": {
    "ExecuteTime": {
     "end_time": "2024-11-27T10:50:46.864024Z",
     "start_time": "2024-11-27T10:50:46.855559Z"
    }
   },
   "cell_type": "code",
   "source": [
    "rozwiazanie = solve_ivp(fun=oscylator_harmoniczny_v2, t_span=przedzial_czasu, y0=[x0, v0], t_eval=probki_czasu)\n",
    "t = rozwiazanie.t\n",
    "x = rozwiazanie.y[0]\n",
    "v = rozwiazanie.y[1]\n",
    "a = (np.array([funkcja(t_i) for t_i in t]) - f * v - k * x) / m"
   ],
   "id": "1a26e57d8c3cf6b1",
   "execution_count": 15,
   "outputs": []
  },
  {
   "metadata": {
    "ExecuteTime": {
     "end_time": "2024-11-27T10:50:47.046087Z",
     "start_time": "2024-11-27T10:50:46.864024Z"
    }
   },
   "cell_type": "code",
   "source": [
    "plt.figure(figsize=(10, 5))\n",
    "\n",
    "plt.subplot(3, 1, 1)\n",
    "plt.plot(t, a, label='przyspieszenie', color='red')\n",
    "plt.xlabel('t')\n",
    "plt.ylabel('a')\n",
    "plt.title('Przyspieszenie oscylatora harmonicznego')\n",
    "plt.grid()\n",
    "plt.legend()\n",
    "\n",
    "plt.subplot(3, 1, 2)\n",
    "plt.plot(t, v, label='prędkość', color='green', linestyle='--')\n",
    "plt.xlabel('t')\n",
    "plt.ylabel('v')\n",
    "plt.title('Prędkość oscylatora harmonicznego')\n",
    "plt.grid()\n",
    "plt.legend()\n",
    "\n",
    "plt.subplot(3, 1, 3)\n",
    "plt.plot(t, x, label='położenie', color='blue', linestyle='-.')\n",
    "plt.xlabel('t')\n",
    "plt.ylabel('x')\n",
    "plt.title('Położenie oscylatora harmonicznego')\n",
    "plt.grid()\n",
    "plt.legend()\n",
    "\n",
    "plt.tight_layout()\n",
    "plt.show()"
   ],
   "id": "42127b0a822df94f",
   "execution_count": 16,
   "outputs": []
  },
  {
   "metadata": {},
   "cell_type": "markdown",
   "source": "(b) Wygenerować wykres określający wielkość wychylenia maksymalnego w zależności od współczynnika tłumienia f ∈ [50, 250].",
   "id": "761c37bab71fd88f"
  },
  {
   "metadata": {
    "ExecuteTime": {
     "end_time": "2024-11-27T10:50:47.050444Z",
     "start_time": "2024-11-27T10:50:47.046087Z"
    }
   },
   "cell_type": "code",
   "source": "print(max(x))",
   "id": "cf2b186b4741765b",
   "execution_count": 17,
   "outputs": []
  },
  {
   "metadata": {
    "ExecuteTime": {
     "end_time": "2024-11-27T10:53:45.441304Z",
     "start_time": "2024-11-27T10:53:45.432942Z"
    }
   },
   "cell_type": "code",
   "source": [
    "przedzial_f = (50, 250)\n",
    "probki_f = np.linspace(*przedzial_f, 201)\n",
    "\n",
    "for f_i in probki_f:\n",
    "    print(f_i)"
   ],
   "id": "15fefd201ca61e98",
   "execution_count": 22,
   "outputs": []
  },
  {
   "metadata": {},
   "cell_type": "code",
   "execution_count": null,
   "source": "",
   "id": "4cd930282748ce7e",
   "outputs": []
  }
 ],
 "metadata": {
  "kernelspec": {
   "display_name": "Python 3",
   "language": "python",
   "name": "python3"
  },
  "language_info": {
   "codemirror_mode": {
    "name": "ipython",
    "version": 2
   },
   "file_extension": ".py",
   "mimetype": "text/x-python",
   "name": "python",
   "nbconvert_exporter": "python",
   "pygments_lexer": "ipython2",
   "version": "2.7.6"
  }
 },
 "nbformat": 4,
 "nbformat_minor": 5
}
